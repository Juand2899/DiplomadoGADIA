{
  "nbformat": 4,
  "nbformat_minor": 0,
  "metadata": {
    "colab": {
      "provenance": [],
      "toc_visible": true
    },
    "kernelspec": {
      "name": "python3",
      "display_name": "Python 3"
    },
    "language_info": {
      "name": "python"
    }
  },
  "cells": [
    {
      "cell_type": "markdown",
      "source": [
        "**INTRODUCCIÓN A PYTHON**\n",
        "\n",
        "DIPLOMADO EN GOBIERNO Y ANALITICA DE DATOS\n",
        "\n",
        "FUNACIÓN UNIVERSITARIA CAFAM\n",
        "\n",
        "DOCENTE: NICLOAS MOJICA GOMEZ\n",
        "\n",
        "ESTUDIANTE: JUAN DAVID TOLOSA BARBOSA\n",
        "\n",
        "---\n",
        "\n"
      ],
      "metadata": {
        "id": "vXJHLul3pkwh"
      }
    },
    {
      "cell_type": "code",
      "source": [],
      "metadata": {
        "id": "sZRcyplrsD_o"
      },
      "execution_count": null,
      "outputs": []
    },
    {
      "cell_type": "markdown",
      "source": [
        "## 1. Comentarios en los codigos\n",
        "\n",
        "Para documentar codigos en phyton existen diferentes formas de crear comentarios, esto nos permite comentar nuestras secuencias de comandos para su analisis o posterior modificación"
      ],
      "metadata": {
        "id": "mwJqyLTqVTh-"
      }
    },
    {
      "cell_type": "code",
      "source": [
        "# Este comentario es de una sola linea\n",
        "#python es un programa sensible a las mayuscula y las minusculas\n",
        "print(\"hola mundo\")"
      ],
      "metadata": {
        "colab": {
          "base_uri": "https://localhost:8080/"
        },
        "id": "DEYBke5OVcDv",
        "outputId": "e13757f5-0a43-4bef-b6ff-ebb85af93138"
      },
      "execution_count": 2,
      "outputs": [
        {
          "output_type": "stream",
          "name": "stdout",
          "text": [
            "hola mundo\n"
          ]
        }
      ]
    },
    {
      "cell_type": "code",
      "source": [
        "'''\n",
        "Este es un comentario de multiples lineas\n",
        "puede extenderse en varias lineas\n",
        "'''\n",
        "print(\"hola mundo\")"
      ],
      "metadata": {
        "colab": {
          "base_uri": "https://localhost:8080/"
        },
        "id": "o27APTkgW0-R",
        "outputId": "496ded60-0b60-472e-b5d4-b798f018e725"
      },
      "execution_count": 3,
      "outputs": [
        {
          "output_type": "stream",
          "name": "stdout",
          "text": [
            "hola mundo\n"
          ]
        }
      ]
    },
    {
      "cell_type": "markdown",
      "source": [
        "## 2. Variables\n",
        "\n",
        "Una variable es un elemento de lenguaje de programación que tiene asginado un valor determinado\n",
        "\n",
        "---\n",
        "\n"
      ],
      "metadata": {
        "id": "vB2j-SE7XgXD"
      }
    },
    {
      "cell_type": "code",
      "source": [
        "## Para crear una variable en phyton, se le debe proporcionar un nombre y se le debe asginar un valor un\"=\"\n",
        "var=\"hola mundo\"\n",
        "print(var)"
      ],
      "metadata": {
        "colab": {
          "base_uri": "https://localhost:8080/"
        },
        "id": "gDT4jHYhXeEe",
        "outputId": "492a259e-6566-45c8-d9ca-ed4c1c28bd24"
      },
      "execution_count": 4,
      "outputs": [
        {
          "output_type": "stream",
          "name": "stdout",
          "text": [
            "hola mundo\n"
          ]
        }
      ]
    },
    {
      "cell_type": "code",
      "source": [
        "## Las variables pueden cambiar a lo largo del progreama en phthon\n",
        "var=\"adios mundo\"\n",
        "print(var)"
      ],
      "metadata": {
        "colab": {
          "base_uri": "https://localhost:8080/"
        },
        "id": "nOJgHXqzYbGy",
        "outputId": "d130079a-1f15-4a55-8a67-646731160de9"
      },
      "execution_count": 5,
      "outputs": [
        {
          "output_type": "stream",
          "name": "stdout",
          "text": [
            "adios mundo\n"
          ]
        }
      ]
    },
    {
      "cell_type": "code",
      "source": [
        "## Las variables son sensibles a las mayusculas y a las minusculas"
      ],
      "metadata": {
        "id": "i-F-uSj5YwcK"
      },
      "execution_count": null,
      "outputs": []
    },
    {
      "cell_type": "markdown",
      "source": [
        "## 3. Tipos de datos\n"
      ],
      "metadata": {
        "id": "XndCDb-QaebA"
      }
    },
    {
      "cell_type": "code",
      "source": [
        "# Tipos de datos numericos\n",
        "entero=42\n",
        "# En la mayor parte de lenguajes de programación los enteros son representados con \"int\""
      ],
      "metadata": {
        "id": "Hb1lRaQIaz5A"
      },
      "execution_count": 6,
      "outputs": []
    },
    {
      "cell_type": "code",
      "source": [
        "# Tipo de datos flotantes\n",
        "flotante=3.14151"
      ],
      "metadata": {
        "id": "d56PuvYvbDqe"
      },
      "execution_count": 7,
      "outputs": []
    },
    {
      "cell_type": "code",
      "source": [
        "# Conversion de los tipos de datos\n",
        "# Convertir un flotante a numero entero\n",
        "entero=int(3.14)\n",
        "print(entero)"
      ],
      "metadata": {
        "colab": {
          "base_uri": "https://localhost:8080/"
        },
        "id": "DWFN1Y0zbNqv",
        "outputId": "f2f62b60-ef64-475b-f795-4f8f50cc5c81"
      },
      "execution_count": 9,
      "outputs": [
        {
          "output_type": "stream",
          "name": "stdout",
          "text": [
            "3\n"
          ]
        }
      ]
    },
    {
      "cell_type": "code",
      "source": [
        "# Convertir entero a flotante\n",
        "flotante=float(5)\n",
        "print(flotante)"
      ],
      "metadata": {
        "colab": {
          "base_uri": "https://localhost:8080/"
        },
        "id": "4zzEv1gMbvvg",
        "outputId": "ce841c13-f730-4275-ea87-925eacf647c1"
      },
      "execution_count": 10,
      "outputs": [
        {
          "output_type": "stream",
          "name": "stdout",
          "text": [
            "5.0\n"
          ]
        }
      ]
    },
    {
      "cell_type": "markdown",
      "source": [
        "## 4. Operadores aritmericos\n",
        "\n",
        "Los operadores matematicos se utiliza para realizar operaciones comunes como la adiccions, la sustraccion y multiplicacion etc.\n",
        "\n",
        "---\n",
        "\n"
      ],
      "metadata": {
        "id": "kcIOlqrfcGqt"
      }
    },
    {
      "cell_type": "code",
      "source": [
        "# suma\n",
        "a=10\n",
        "b=5\n",
        "print(a+b)"
      ],
      "metadata": {
        "colab": {
          "base_uri": "https://localhost:8080/"
        },
        "id": "iKLO7Ok7b96x",
        "outputId": "150d945f-4ef4-4f9b-90f7-052089be20da"
      },
      "execution_count": 11,
      "outputs": [
        {
          "output_type": "stream",
          "name": "stdout",
          "text": [
            "15\n"
          ]
        }
      ]
    },
    {
      "cell_type": "code",
      "source": [
        "# Resta\n",
        "c=a-b\n",
        "print(c)"
      ],
      "metadata": {
        "colab": {
          "base_uri": "https://localhost:8080/"
        },
        "id": "Cx-8hByGchzD",
        "outputId": "6d9852f8-0ca1-4121-a9a7-78489fd46360"
      },
      "execution_count": 13,
      "outputs": [
        {
          "output_type": "stream",
          "name": "stdout",
          "text": [
            "5\n"
          ]
        }
      ]
    },
    {
      "cell_type": "code",
      "source": [
        "# Multiplicación\n",
        "d=a*b\n",
        "print(d)"
      ],
      "metadata": {
        "colab": {
          "base_uri": "https://localhost:8080/"
        },
        "id": "ZRqwhnzScq_0",
        "outputId": "2f939f02-db89-42fb-d672-3abc44eec68d"
      },
      "execution_count": 14,
      "outputs": [
        {
          "output_type": "stream",
          "name": "stdout",
          "text": [
            "50\n"
          ]
        }
      ]
    },
    {
      "cell_type": "code",
      "source": [
        "# Division\n",
        "e=a/b\n",
        "print(e)"
      ],
      "metadata": {
        "colab": {
          "base_uri": "https://localhost:8080/"
        },
        "id": "SkRG73AtdDjg",
        "outputId": "041e61c4-f730-43c3-e676-94d1b1458cb3"
      },
      "execution_count": 15,
      "outputs": [
        {
          "output_type": "stream",
          "name": "stdout",
          "text": [
            "2.0\n"
          ]
        }
      ]
    },
    {
      "cell_type": "code",
      "source": [
        "# Division entera\n",
        "print(a//b)"
      ],
      "metadata": {
        "colab": {
          "base_uri": "https://localhost:8080/"
        },
        "id": "CmZ8c7YDdXCk",
        "outputId": "96ca4ddf-a3b3-460a-a456-0b4bae255401"
      },
      "execution_count": 16,
      "outputs": [
        {
          "output_type": "stream",
          "name": "stdout",
          "text": [
            "2\n"
          ]
        }
      ]
    },
    {
      "cell_type": "code",
      "source": [
        "# Modulo residuo de una operacion\n",
        "print(a%b)"
      ],
      "metadata": {
        "colab": {
          "base_uri": "https://localhost:8080/"
        },
        "id": "VejDJJcQdfWx",
        "outputId": "3c8f783a-3a51-43d7-8ac5-8f1acfd9f6ca"
      },
      "execution_count": 17,
      "outputs": [
        {
          "output_type": "stream",
          "name": "stdout",
          "text": [
            "0\n"
          ]
        }
      ]
    },
    {
      "cell_type": "code",
      "source": [
        "# Exponenciacion o variable potencia\n",
        "print(a**b)"
      ],
      "metadata": {
        "colab": {
          "base_uri": "https://localhost:8080/"
        },
        "id": "Vmo0K2F6dn6b",
        "outputId": "3b926779-325b-4f58-b63d-8c52b2a58188"
      },
      "execution_count": 18,
      "outputs": [
        {
          "output_type": "stream",
          "name": "stdout",
          "text": [
            "100000\n"
          ]
        }
      ]
    },
    {
      "cell_type": "code",
      "source": [
        "# Asignacion compuesta\n",
        "a+=b\n",
        "print(a)"
      ],
      "metadata": {
        "colab": {
          "base_uri": "https://localhost:8080/"
        },
        "id": "rIYTOBCzdzwU",
        "outputId": "f4219f4f-d073-4d2c-b328-672c1951070c"
      },
      "execution_count": 21,
      "outputs": [
        {
          "output_type": "stream",
          "name": "stdout",
          "text": [
            "15\n"
          ]
        }
      ]
    },
    {
      "cell_type": "code",
      "source": [
        "a-=b\n",
        "print(a)"
      ],
      "metadata": {
        "colab": {
          "base_uri": "https://localhost:8080/"
        },
        "id": "vx7EYgSWeELT",
        "outputId": "7a2bcd17-374f-4e23-ba41-f338e480567a"
      },
      "execution_count": 23,
      "outputs": [
        {
          "output_type": "stream",
          "name": "stdout",
          "text": [
            "10\n"
          ]
        }
      ]
    },
    {
      "cell_type": "code",
      "source": [
        "# Redondeo\n",
        "var4=3.1410\n",
        "print(round(var4,2))"
      ],
      "metadata": {
        "colab": {
          "base_uri": "https://localhost:8080/"
        },
        "id": "_2nznMT4evGx",
        "outputId": "813e2534-a21d-40c8-8d87-7f47677ed9da"
      },
      "execution_count": 27,
      "outputs": [
        {
          "output_type": "stream",
          "name": "stdout",
          "text": [
            "3.14\n"
          ]
        }
      ]
    },
    {
      "cell_type": "markdown",
      "source": [
        "## Ejercicio en clase\n",
        "\n",
        "---\n",
        "\n"
      ],
      "metadata": {
        "id": "odDM0rQqfowX"
      }
    },
    {
      "cell_type": "code",
      "source": [
        "# Declara dos variables ayb con los valores 10y3,respectivamente\n",
        "a=10\n",
        "b=3"
      ],
      "metadata": {
        "id": "eP0Jddv4fO4j"
      },
      "execution_count": 29,
      "outputs": []
    },
    {
      "cell_type": "code",
      "source": [
        "# Calcula la suma de ayb asignala a una variable suma\n",
        "a=10\n",
        "b=3\n",
        "print(a+b)"
      ],
      "metadata": {
        "colab": {
          "base_uri": "https://localhost:8080/"
        },
        "id": "F2oNKpDngB16",
        "outputId": "a43a4013-ee87-4846-dc43-8b4aa9082cc7"
      },
      "execution_count": 31,
      "outputs": [
        {
          "output_type": "stream",
          "name": "stdout",
          "text": [
            "13\n"
          ]
        }
      ]
    },
    {
      "cell_type": "code",
      "source": [
        "# Calcula la resta de ayb asignala a una variable resta\n",
        "a=10\n",
        "b=3\n",
        "print(a-b)"
      ],
      "metadata": {
        "colab": {
          "base_uri": "https://localhost:8080/"
        },
        "id": "Ydif7wIPgnaG",
        "outputId": "24a24f05-7732-47a8-ed69-5e71f7f227f5"
      },
      "execution_count": 32,
      "outputs": [
        {
          "output_type": "stream",
          "name": "stdout",
          "text": [
            "7\n"
          ]
        }
      ]
    },
    {
      "cell_type": "code",
      "source": [
        "# Calcula la multiplicación de ayb asignala a una variable multiplicacion\n",
        "print(a*b)"
      ],
      "metadata": {
        "colab": {
          "base_uri": "https://localhost:8080/"
        },
        "id": "yx3MOsrbg0Bq",
        "outputId": "1cb5f103-765f-46e9-9986-94099e773de9"
      },
      "execution_count": 33,
      "outputs": [
        {
          "output_type": "stream",
          "name": "stdout",
          "text": [
            "30\n"
          ]
        }
      ]
    },
    {
      "cell_type": "code",
      "source": [
        "# Calcula la division de ayb asignala a una variable division\n",
        "print(a/b)"
      ],
      "metadata": {
        "colab": {
          "base_uri": "https://localhost:8080/"
        },
        "id": "sziL9LahhANT",
        "outputId": "10e1806b-67a6-46cf-d4f8-d599da79b9d4"
      },
      "execution_count": 34,
      "outputs": [
        {
          "output_type": "stream",
          "name": "stdout",
          "text": [
            "3.3333333333333335\n"
          ]
        }
      ]
    },
    {
      "cell_type": "code",
      "source": [
        "# Calcula el modulo de ayb asignala a una variable modulo\n",
        "print(a&b)"
      ],
      "metadata": {
        "colab": {
          "base_uri": "https://localhost:8080/"
        },
        "id": "2j_GdsHqhKws",
        "outputId": "bbac5720-1078-4e76-abbd-5ab34ff59b51"
      },
      "execution_count": 35,
      "outputs": [
        {
          "output_type": "stream",
          "name": "stdout",
          "text": [
            "2\n"
          ]
        }
      ]
    },
    {
      "cell_type": "code",
      "source": [
        "# Calcula la potencia de a elevado de ayb asignala a una variable potencia\n",
        "print(a**b)"
      ],
      "metadata": {
        "colab": {
          "base_uri": "https://localhost:8080/"
        },
        "id": "m6DCSG4DhYH8",
        "outputId": "cc37ec0c-58e5-4470-b910-3016b0b572eb"
      },
      "execution_count": 36,
      "outputs": [
        {
          "output_type": "stream",
          "name": "stdout",
          "text": [
            "1000\n"
          ]
        }
      ]
    },
    {
      "cell_type": "code",
      "source": [
        "# Calcula la division entera de a entre b y asignala a una variable division_entera.\n",
        "print(a//b)"
      ],
      "metadata": {
        "colab": {
          "base_uri": "https://localhost:8080/"
        },
        "id": "nTBt5aj7iOUT",
        "outputId": "06251376-e9e5-443c-d808-b89b1c5acd68"
      },
      "execution_count": 37,
      "outputs": [
        {
          "output_type": "stream",
          "name": "stdout",
          "text": [
            "3\n"
          ]
        }
      ]
    },
    {
      "cell_type": "code",
      "source": [],
      "metadata": {
        "id": "q8YAHJI1iqW-"
      },
      "execution_count": null,
      "outputs": []
    }
  ]
}
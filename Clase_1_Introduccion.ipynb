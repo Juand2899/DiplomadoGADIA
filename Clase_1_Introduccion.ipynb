{
  "nbformat": 4,
  "nbformat_minor": 0,
  "metadata": {
    "colab": {
      "provenance": [],
      "toc_visible": true,
      "authorship_tag": "ABX9TyPcSQ5Hz6+uIC3B8D/+dfr1",
      "include_colab_link": true
    },
    "kernelspec": {
      "name": "python3",
      "display_name": "Python 3"
    },
    "language_info": {
      "name": "python"
    }
  },
  "cells": [
    {
      "cell_type": "markdown",
      "metadata": {
        "id": "view-in-github",
        "colab_type": "text"
      },
      "source": [
        "<a href=\"https://colab.research.google.com/github/Juand2899/DiplomadoGADIA/blob/main/Clase_1_Introduccion.ipynb\" target=\"_parent\"><img src=\"https://colab.research.google.com/assets/colab-badge.svg\" alt=\"Open In Colab\"/></a>"
      ]
    },
    {
      "cell_type": "markdown",
      "source": [
        "**INTRODUCCIÓN A PYTHON**\n",
        "\n",
        "DIPLOMADO EN GOBIERNO Y ANALITICA DE DATOS\n",
        "\n",
        "FUNACIÓN UNIVERSITARIA CAFAM\n",
        "\n",
        "DOCENTE: NICLOAS MOJICA GOMEZ\n",
        "\n",
        "ESTUDIANTE: JUAN DAVID TOLOSA BARBOSA\n",
        "\n",
        "---\n",
        "\n"
      ],
      "metadata": {
        "id": "vXJHLul3pkwh"
      }
    },
    {
      "cell_type": "code",
      "source": [],
      "metadata": {
        "id": "sZRcyplrsD_o"
      },
      "execution_count": null,
      "outputs": []
    },
    {
      "cell_type": "markdown",
      "source": [
        "## 1. Comentarios en los codigos\n",
        "\n",
        "Para documentar codigos en phyton existen diferentes formas de crear comentarios, esto nos permite comentar nuestras secuencias de comandos para su analisis o posterior modificación"
      ],
      "metadata": {
        "id": "mwJqyLTqVTh-"
      }
    },
    {
      "cell_type": "code",
      "source": [
        "# Este comentario es de una sola linea\n",
        "#python es un programa sensible a las mayuscula y las minusculas\n",
        "print(\"hola mundo\")"
      ],
      "metadata": {
        "colab": {
          "base_uri": "https://localhost:8080/"
        },
        "id": "DEYBke5OVcDv",
        "outputId": "e13757f5-0a43-4bef-b6ff-ebb85af93138"
      },
      "execution_count": null,
      "outputs": [
        {
          "output_type": "stream",
          "name": "stdout",
          "text": [
            "hola mundo\n"
          ]
        }
      ]
    },
    {
      "cell_type": "code",
      "source": [
        "'''\n",
        "Este es un comentario de multiples lineas\n",
        "puede extenderse en varias lineas\n",
        "'''\n",
        "print(\"hola mundo\")"
      ],
      "metadata": {
        "colab": {
          "base_uri": "https://localhost:8080/"
        },
        "id": "o27APTkgW0-R",
        "outputId": "496ded60-0b60-472e-b5d4-b798f018e725"
      },
      "execution_count": null,
      "outputs": [
        {
          "output_type": "stream",
          "name": "stdout",
          "text": [
            "hola mundo\n"
          ]
        }
      ]
    },
    {
      "cell_type": "markdown",
      "source": [
        "## 2. Variables\n",
        "\n",
        "Una variable es un elemento de lenguaje de programación que tiene asginado un valor determinado\n",
        "\n",
        "---\n",
        "\n"
      ],
      "metadata": {
        "id": "vB2j-SE7XgXD"
      }
    },
    {
      "cell_type": "code",
      "source": [
        "## Para crear una variable en phyton, se le debe proporcionar un nombre y se le debe asginar un valor un\"=\"\n",
        "var=\"hola mundo\"\n",
        "print(var)"
      ],
      "metadata": {
        "colab": {
          "base_uri": "https://localhost:8080/"
        },
        "id": "gDT4jHYhXeEe",
        "outputId": "492a259e-6566-45c8-d9ca-ed4c1c28bd24"
      },
      "execution_count": null,
      "outputs": [
        {
          "output_type": "stream",
          "name": "stdout",
          "text": [
            "hola mundo\n"
          ]
        }
      ]
    },
    {
      "cell_type": "code",
      "source": [
        "## Las variables pueden cambiar a lo largo del progreama en phthon\n",
        "var=\"adios mundo\"\n",
        "print(var)"
      ],
      "metadata": {
        "colab": {
          "base_uri": "https://localhost:8080/"
        },
        "id": "nOJgHXqzYbGy",
        "outputId": "d130079a-1f15-4a55-8a67-646731160de9"
      },
      "execution_count": null,
      "outputs": [
        {
          "output_type": "stream",
          "name": "stdout",
          "text": [
            "adios mundo\n"
          ]
        }
      ]
    },
    {
      "cell_type": "code",
      "source": [
        "## Las variables son sensibles a las mayusculas y a las minusculas"
      ],
      "metadata": {
        "id": "i-F-uSj5YwcK"
      },
      "execution_count": null,
      "outputs": []
    },
    {
      "cell_type": "markdown",
      "source": [
        "## 3. Tipos de datos\n"
      ],
      "metadata": {
        "id": "XndCDb-QaebA"
      }
    },
    {
      "cell_type": "code",
      "source": [
        "# Tipos de datos numericos\n",
        "entero=42\n",
        "# En la mayor parte de lenguajes de programación los enteros son representados con \"int\""
      ],
      "metadata": {
        "id": "Hb1lRaQIaz5A"
      },
      "execution_count": null,
      "outputs": []
    },
    {
      "cell_type": "code",
      "source": [
        "# Tipo de datos flotantes\n",
        "flotante=3.14151"
      ],
      "metadata": {
        "id": "d56PuvYvbDqe"
      },
      "execution_count": null,
      "outputs": []
    },
    {
      "cell_type": "code",
      "source": [
        "# Conversion de los tipos de datos\n",
        "# Convertir un flotante a numero entero\n",
        "entero=int(3.14)\n",
        "print(entero)"
      ],
      "metadata": {
        "colab": {
          "base_uri": "https://localhost:8080/"
        },
        "id": "DWFN1Y0zbNqv",
        "outputId": "f2f62b60-ef64-475b-f795-4f8f50cc5c81"
      },
      "execution_count": null,
      "outputs": [
        {
          "output_type": "stream",
          "name": "stdout",
          "text": [
            "3\n"
          ]
        }
      ]
    },
    {
      "cell_type": "code",
      "source": [
        "# Convertir entero a flotante\n",
        "flotante=float(5)\n",
        "print(flotante)"
      ],
      "metadata": {
        "colab": {
          "base_uri": "https://localhost:8080/"
        },
        "id": "4zzEv1gMbvvg",
        "outputId": "ce841c13-f730-4275-ea87-925eacf647c1"
      },
      "execution_count": null,
      "outputs": [
        {
          "output_type": "stream",
          "name": "stdout",
          "text": [
            "5.0\n"
          ]
        }
      ]
    },
    {
      "cell_type": "markdown",
      "source": [
        "## 4. Operadores aritmericos\n",
        "\n",
        "Los operadores matematicos se utiliza para realizar operaciones comunes como la adiccions, la sustraccion y multiplicacion etc.\n",
        "\n",
        "---\n",
        "\n"
      ],
      "metadata": {
        "id": "kcIOlqrfcGqt"
      }
    },
    {
      "cell_type": "code",
      "source": [
        "# suma\n",
        "a=10\n",
        "b=5\n",
        "print(a+b)"
      ],
      "metadata": {
        "colab": {
          "base_uri": "https://localhost:8080/"
        },
        "id": "iKLO7Ok7b96x",
        "outputId": "150d945f-4ef4-4f9b-90f7-052089be20da"
      },
      "execution_count": null,
      "outputs": [
        {
          "output_type": "stream",
          "name": "stdout",
          "text": [
            "15\n"
          ]
        }
      ]
    },
    {
      "cell_type": "code",
      "source": [
        "# Resta\n",
        "c=a-b\n",
        "print(c)"
      ],
      "metadata": {
        "colab": {
          "base_uri": "https://localhost:8080/"
        },
        "id": "Cx-8hByGchzD",
        "outputId": "6d9852f8-0ca1-4121-a9a7-78489fd46360"
      },
      "execution_count": null,
      "outputs": [
        {
          "output_type": "stream",
          "name": "stdout",
          "text": [
            "5\n"
          ]
        }
      ]
    },
    {
      "cell_type": "code",
      "source": [
        "# Multiplicación\n",
        "d=a*b\n",
        "print(d)"
      ],
      "metadata": {
        "colab": {
          "base_uri": "https://localhost:8080/"
        },
        "id": "ZRqwhnzScq_0",
        "outputId": "2f939f02-db89-42fb-d672-3abc44eec68d"
      },
      "execution_count": null,
      "outputs": [
        {
          "output_type": "stream",
          "name": "stdout",
          "text": [
            "50\n"
          ]
        }
      ]
    },
    {
      "cell_type": "code",
      "source": [
        "# Division\n",
        "e=a/b\n",
        "print(e)"
      ],
      "metadata": {
        "colab": {
          "base_uri": "https://localhost:8080/"
        },
        "id": "SkRG73AtdDjg",
        "outputId": "041e61c4-f730-43c3-e676-94d1b1458cb3"
      },
      "execution_count": null,
      "outputs": [
        {
          "output_type": "stream",
          "name": "stdout",
          "text": [
            "2.0\n"
          ]
        }
      ]
    },
    {
      "cell_type": "code",
      "source": [
        "# Division entera\n",
        "print(a//b)"
      ],
      "metadata": {
        "colab": {
          "base_uri": "https://localhost:8080/"
        },
        "id": "CmZ8c7YDdXCk",
        "outputId": "96ca4ddf-a3b3-460a-a456-0b4bae255401"
      },
      "execution_count": null,
      "outputs": [
        {
          "output_type": "stream",
          "name": "stdout",
          "text": [
            "2\n"
          ]
        }
      ]
    },
    {
      "cell_type": "code",
      "source": [
        "# Modulo residuo de una operacion\n",
        "print(a%b)"
      ],
      "metadata": {
        "colab": {
          "base_uri": "https://localhost:8080/"
        },
        "id": "VejDJJcQdfWx",
        "outputId": "3c8f783a-3a51-43d7-8ac5-8f1acfd9f6ca"
      },
      "execution_count": null,
      "outputs": [
        {
          "output_type": "stream",
          "name": "stdout",
          "text": [
            "0\n"
          ]
        }
      ]
    },
    {
      "cell_type": "code",
      "source": [
        "# Exponenciacion o variable potencia\n",
        "print(a**b)"
      ],
      "metadata": {
        "colab": {
          "base_uri": "https://localhost:8080/"
        },
        "id": "Vmo0K2F6dn6b",
        "outputId": "3b926779-325b-4f58-b63d-8c52b2a58188"
      },
      "execution_count": null,
      "outputs": [
        {
          "output_type": "stream",
          "name": "stdout",
          "text": [
            "100000\n"
          ]
        }
      ]
    },
    {
      "cell_type": "code",
      "source": [
        "# Asignacion compuesta\n",
        "a+=b\n",
        "print(a)"
      ],
      "metadata": {
        "colab": {
          "base_uri": "https://localhost:8080/"
        },
        "id": "rIYTOBCzdzwU",
        "outputId": "f4219f4f-d073-4d2c-b328-672c1951070c"
      },
      "execution_count": null,
      "outputs": [
        {
          "output_type": "stream",
          "name": "stdout",
          "text": [
            "15\n"
          ]
        }
      ]
    },
    {
      "cell_type": "code",
      "source": [
        "a-=b\n",
        "print(a)"
      ],
      "metadata": {
        "colab": {
          "base_uri": "https://localhost:8080/"
        },
        "id": "vx7EYgSWeELT",
        "outputId": "7a2bcd17-374f-4e23-ba41-f338e480567a"
      },
      "execution_count": null,
      "outputs": [
        {
          "output_type": "stream",
          "name": "stdout",
          "text": [
            "10\n"
          ]
        }
      ]
    },
    {
      "cell_type": "code",
      "source": [
        "# Redondeo\n",
        "var4=3.1410\n",
        "print(round(var4,2))"
      ],
      "metadata": {
        "colab": {
          "base_uri": "https://localhost:8080/"
        },
        "id": "_2nznMT4evGx",
        "outputId": "813e2534-a21d-40c8-8d87-7f47677ed9da"
      },
      "execution_count": null,
      "outputs": [
        {
          "output_type": "stream",
          "name": "stdout",
          "text": [
            "3.14\n"
          ]
        }
      ]
    },
    {
      "cell_type": "markdown",
      "source": [
        "## Ejercicio en clase\n",
        "\n",
        "---\n",
        "\n"
      ],
      "metadata": {
        "id": "odDM0rQqfowX"
      }
    },
    {
      "cell_type": "code",
      "source": [
        "# Declara dos variables ayb con los valores 10y3,respectivamente\n",
        "a=10\n",
        "b=3"
      ],
      "metadata": {
        "id": "eP0Jddv4fO4j"
      },
      "execution_count": null,
      "outputs": []
    },
    {
      "cell_type": "code",
      "source": [
        "# Calcula la suma de ayb asignala a una variable suma\n",
        "a=10\n",
        "b=3\n",
        "print(a+b)"
      ],
      "metadata": {
        "colab": {
          "base_uri": "https://localhost:8080/"
        },
        "id": "F2oNKpDngB16",
        "outputId": "a43a4013-ee87-4846-dc43-8b4aa9082cc7"
      },
      "execution_count": null,
      "outputs": [
        {
          "output_type": "stream",
          "name": "stdout",
          "text": [
            "13\n"
          ]
        }
      ]
    },
    {
      "cell_type": "code",
      "source": [
        "# Calcula la resta de ayb asignala a una variable resta\n",
        "a=10\n",
        "b=3\n",
        "print(a-b)"
      ],
      "metadata": {
        "colab": {
          "base_uri": "https://localhost:8080/"
        },
        "id": "Ydif7wIPgnaG",
        "outputId": "24a24f05-7732-47a8-ed69-5e71f7f227f5"
      },
      "execution_count": null,
      "outputs": [
        {
          "output_type": "stream",
          "name": "stdout",
          "text": [
            "7\n"
          ]
        }
      ]
    },
    {
      "cell_type": "code",
      "source": [
        "# Calcula la multiplicación de ayb asignala a una variable multiplicacion\n",
        "print(a*b)"
      ],
      "metadata": {
        "colab": {
          "base_uri": "https://localhost:8080/"
        },
        "id": "yx3MOsrbg0Bq",
        "outputId": "1cb5f103-765f-46e9-9986-94099e773de9"
      },
      "execution_count": null,
      "outputs": [
        {
          "output_type": "stream",
          "name": "stdout",
          "text": [
            "30\n"
          ]
        }
      ]
    },
    {
      "cell_type": "code",
      "source": [
        "# Calcula la division de ayb asignala a una variable division\n",
        "print(a/b)"
      ],
      "metadata": {
        "colab": {
          "base_uri": "https://localhost:8080/"
        },
        "id": "sziL9LahhANT",
        "outputId": "10e1806b-67a6-46cf-d4f8-d599da79b9d4"
      },
      "execution_count": null,
      "outputs": [
        {
          "output_type": "stream",
          "name": "stdout",
          "text": [
            "3.3333333333333335\n"
          ]
        }
      ]
    },
    {
      "cell_type": "code",
      "source": [
        "# Calcula el modulo de ayb asignala a una variable modulo\n",
        "print(a&b)"
      ],
      "metadata": {
        "colab": {
          "base_uri": "https://localhost:8080/"
        },
        "id": "2j_GdsHqhKws",
        "outputId": "bbac5720-1078-4e76-abbd-5ab34ff59b51"
      },
      "execution_count": null,
      "outputs": [
        {
          "output_type": "stream",
          "name": "stdout",
          "text": [
            "2\n"
          ]
        }
      ]
    },
    {
      "cell_type": "code",
      "source": [
        "# Calcula la potencia de a elevado de ayb asignala a una variable potencia\n",
        "print(a**b)"
      ],
      "metadata": {
        "colab": {
          "base_uri": "https://localhost:8080/"
        },
        "id": "m6DCSG4DhYH8",
        "outputId": "cc37ec0c-58e5-4470-b910-3016b0b572eb"
      },
      "execution_count": null,
      "outputs": [
        {
          "output_type": "stream",
          "name": "stdout",
          "text": [
            "1000\n"
          ]
        }
      ]
    },
    {
      "cell_type": "code",
      "source": [
        "# Calcula la division entera de a entre b y asignala a una variable division_entera.\n",
        "print(a//b)"
      ],
      "metadata": {
        "colab": {
          "base_uri": "https://localhost:8080/"
        },
        "id": "nTBt5aj7iOUT",
        "outputId": "06251376-e9e5-443c-d808-b89b1c5acd68"
      },
      "execution_count": null,
      "outputs": [
        {
          "output_type": "stream",
          "name": "stdout",
          "text": [
            "3\n"
          ]
        }
      ]
    },
    {
      "cell_type": "code",
      "source": [],
      "metadata": {
        "id": "q8YAHJI1iqW-"
      },
      "execution_count": null,
      "outputs": []
    },
    {
      "cell_type": "markdown",
      "source": [
        "## 5. Textos o valores String\n",
        "\n",
        "En python los valores de cadena se identifican a traves de \"STR\"\n",
        "\n",
        "---\n",
        "\n"
      ],
      "metadata": {
        "id": "o3i0iItJm3-Y"
      }
    },
    {
      "cell_type": "code",
      "source": [
        "cadena_simple='hola,mundo'\n",
        "cadena_doble=\"hola,mundo\"\n",
        "cadena_multiple='''esta es\n",
        "una cadena\n",
        "que ocupa\n",
        "varias lineas'''"
      ],
      "metadata": {
        "id": "L8QstH5wm9vm"
      },
      "execution_count": 4,
      "outputs": []
    },
    {
      "cell_type": "code",
      "source": [
        "# operaciones basicas con cadenas\n",
        "#la concatenación\n",
        "saludo=\"hola\"\n",
        "nombre=\"mundo\"\n",
        "mensaje=saludo+\" , \"+nombre\n",
        "print(mensaje)"
      ],
      "metadata": {
        "colab": {
          "base_uri": "https://localhost:8080/"
        },
        "id": "k-hxmDvHnUao",
        "outputId": "0b3af1a1-9054-40a5-b249-b5d57b6c5b68"
      },
      "execution_count": 5,
      "outputs": [
        {
          "output_type": "stream",
          "name": "stdout",
          "text": [
            "hola , mundo\n"
          ]
        }
      ]
    },
    {
      "cell_type": "code",
      "source": [
        "# la repeteción\n",
        "repetir=\"hola\"*3\n",
        "print(repetir)"
      ],
      "metadata": {
        "colab": {
          "base_uri": "https://localhost:8080/"
        },
        "id": "fjoPp2OgoTHI",
        "outputId": "966b6056-d564-4517-dd4b-59f2818f8b14"
      },
      "execution_count": 6,
      "outputs": [
        {
          "output_type": "stream",
          "name": "stdout",
          "text": [
            "holaholahola\n"
          ]
        }
      ]
    },
    {
      "cell_type": "code",
      "source": [
        "#la indexación: acceder a caracteres individuales usando indices\n",
        "primer_caracter=mensaje[0]\n",
        "print(primer_caracter)"
      ],
      "metadata": {
        "colab": {
          "base_uri": "https://localhost:8080/"
        },
        "id": "cdRjCpu2pGUV",
        "outputId": "4972d711-96f4-4a98-e18b-bf64017c267a"
      },
      "execution_count": 8,
      "outputs": [
        {
          "output_type": "stream",
          "name": "stdout",
          "text": [
            "h\n"
          ]
        }
      ]
    },
    {
      "cell_type": "code",
      "source": [
        "#slicing: obtiene subcadenas usando una notación de rango\n",
        "#obtener la palabra hola de la variable mensaje\n",
        "sub_cadena=mensaje[0:4]\n",
        "print(sub_cadena)"
      ],
      "metadata": {
        "colab": {
          "base_uri": "https://localhost:8080/"
        },
        "id": "e_4jlk5epunW",
        "outputId": "37a7c640-bc60-4331-846a-cd61935cfaad"
      },
      "execution_count": 12,
      "outputs": [
        {
          "output_type": "stream",
          "name": "stdout",
          "text": [
            "hola\n"
          ]
        }
      ]
    },
    {
      "cell_type": "code",
      "source": [
        "cadena=\"phyton es genial\"\n",
        "#metodos de candenas\n",
        "#MAYUSCULA\n",
        "print(cadena.upper())\n",
        "#minuscula\n",
        "print(cadena.lower())\n",
        "#tipo titulo\n",
        "print(cadena.strip())\n",
        "#reemplazo de caracteres\n",
        "print(cadena.replace(\"genial\",\"increible\"))\n",
        "# separación de las cadenas\n",
        "print(cadena.split(\" \"))\n",
        "#union de cadena\n",
        "print(\", \".join(['phyton', 'es', 'genial']))"
      ],
      "metadata": {
        "colab": {
          "base_uri": "https://localhost:8080/"
        },
        "id": "k3CKd8rvqkpy",
        "outputId": "189b3c08-0b1a-4f64-80a6-5b58dfee339b"
      },
      "execution_count": 16,
      "outputs": [
        {
          "output_type": "stream",
          "name": "stdout",
          "text": [
            "PHYTON ES GENIAL\n",
            "phyton es genial\n",
            "phyton es genial\n",
            "phyton es increible\n",
            "['phyton', 'es', 'genial']\n",
            "phyton, es, genial\n"
          ]
        }
      ]
    },
    {
      "cell_type": "markdown",
      "source": [
        "## 6  Estructuras de datos\n",
        "\n",
        "---\n",
        "\n"
      ],
      "metadata": {
        "id": "EAvAaaFQxvL6"
      }
    },
    {
      "cell_type": "markdown",
      "source": [
        "![Sin título.png](data:image/png;base64,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)"
      ],
      "metadata": {
        "id": "ODp_nELYx0wE"
      }
    },
    {
      "cell_type": "code",
      "source": [
        "# Listas:\n",
        "\"\"\"\n",
        "Las listas en Python son una de las estructuras de datos más utilizadas debido a su flexibilidad y capacidad para almacenar diferentes tipos de datos. Aquí te explico en detalle cómo funcionan las listas y cómo puedes utilizarlas.\"\"\"\n"
      ],
      "metadata": {
        "colab": {
          "base_uri": "https://localhost:8080/",
          "height": 35
        },
        "id": "bpLliFijsQdI",
        "outputId": "9e1e14e5-027f-43b0-d105-2527ed6cfd14"
      },
      "execution_count": 29,
      "outputs": [
        {
          "output_type": "execute_result",
          "data": {
            "text/plain": [
              "' \\nLas listas en Python son una de las estructuras de datos más utilizadas debido a su flexibilidad y capacidad para almacenar diferentes tipos de datos. Aquí te explico en detalle cómo funcionan las listas y cómo puedes utilizarlas.'"
            ],
            "application/vnd.google.colaboratory.intrinsic+json": {
              "type": "string"
            }
          },
          "metadata": {},
          "execution_count": 29
        }
      ]
    },
    {
      "cell_type": "code",
      "source": [
        "#creando una lista basica\n",
        "mi_lista=[]\n",
        "\n",
        "#crear lista con elementos\n",
        "mi_lista=[1,2,3,\"cuatro\",5.0,True]\n",
        "\n",
        "#accediendo a elementos de la lista\n",
        "mi_lista = [10, 20, 30, 40, 50]\n",
        "#acceder al tercer elemeto\n",
        "print(mi_lista[2])\n",
        "\n",
        "#acceder al ultimo elemento\n",
        "print(mi_lista[-1])"
      ],
      "metadata": {
        "colab": {
          "base_uri": "https://localhost:8080/"
        },
        "id": "e2MJrht-zgnD",
        "outputId": "f81bfac3-4bff-42fc-84fc-454de05db992"
      },
      "execution_count": 23,
      "outputs": [
        {
          "output_type": "stream",
          "name": "stdout",
          "text": [
            "30\n",
            "50\n"
          ]
        }
      ]
    },
    {
      "cell_type": "code",
      "source": [
        "#modificacion de listas\n",
        "# cambiar en mi lista el 30 por un 1\n",
        "mi_lista[2]=1\n",
        "print(mi_lista)"
      ],
      "metadata": {
        "colab": {
          "base_uri": "https://localhost:8080/"
        },
        "id": "Gr4GchAI0Zwd",
        "outputId": "0aeda4c4-07f2-493f-d93f-d05b596ba768"
      },
      "execution_count": 31,
      "outputs": [
        {
          "output_type": "stream",
          "name": "stdout",
          "text": [
            "[10, 20, 1, 40, 50]\n"
          ]
        }
      ]
    },
    {
      "cell_type": "code",
      "source": [
        "#agregar nuevos elementos a una lista\n",
        "mi_lista=[1,2,3]\n",
        "\n",
        "#agregar un elemnto al final de la lista\n",
        "mi_lista.append(4)\n",
        "\n",
        "print(mi_lista)"
      ],
      "metadata": {
        "colab": {
          "base_uri": "https://localhost:8080/"
        },
        "id": "_XmQJ82J4B1Z",
        "outputId": "43ab03da-9350-4573-8cab-8680117ac52d"
      },
      "execution_count": 32,
      "outputs": [
        {
          "output_type": "stream",
          "name": "stdout",
          "text": [
            "[1, 2, 3, 4]\n"
          ]
        }
      ]
    },
    {
      "cell_type": "code",
      "source": [
        "#insertar un elemento en la lista en un aposicion especifica\n",
        "mi_lista.insert(1,5)\n",
        "print(mi_lista)"
      ],
      "metadata": {
        "colab": {
          "base_uri": "https://localhost:8080/"
        },
        "id": "RnJys6c542_b",
        "outputId": "f2931a04-acee-401d-df14-dafa1f64132f"
      },
      "execution_count": 33,
      "outputs": [
        {
          "output_type": "stream",
          "name": "stdout",
          "text": [
            "[1, 5, 2, 3, 4]\n"
          ]
        }
      ]
    },
    {
      "cell_type": "code",
      "source": [
        "#agregar varios elementos a una lista\n",
        "mi_lista.extend([5,6])\n",
        "print(mi_lista)"
      ],
      "metadata": {
        "colab": {
          "base_uri": "https://localhost:8080/"
        },
        "id": "qJOpBxGy5PQu",
        "outputId": "023793ce-25b5-40a4-9f69-da673e16ecd7"
      },
      "execution_count": 34,
      "outputs": [
        {
          "output_type": "stream",
          "name": "stdout",
          "text": [
            "[1, 5, 2, 3, 4, 5, 6]\n"
          ]
        }
      ]
    },
    {
      "cell_type": "code",
      "source": [
        "#eliminar un elemnto de la lista\n",
        "mi_lista.remove(1)\n",
        "print(mi_lista)"
      ],
      "metadata": {
        "colab": {
          "base_uri": "https://localhost:8080/"
        },
        "id": "UkQ4kcb05sBg",
        "outputId": "d198d150-a74d-490c-e316-52140b0c70c7"
      },
      "execution_count": 35,
      "outputs": [
        {
          "output_type": "stream",
          "name": "stdout",
          "text": [
            "[5, 2, 3, 4, 5, 6]\n"
          ]
        }
      ]
    },
    {
      "cell_type": "code",
      "source": [
        "\n",
        "#Eliminación de elementos por una posicion especifica\n",
        "del mi_lista[0]\n",
        "print(mi_lista)"
      ],
      "metadata": {
        "colab": {
          "base_uri": "https://localhost:8080/"
        },
        "id": "Q1H_SD3b57hy",
        "outputId": "62fe99a6-56b6-4765-89b4-a6aae28f351b"
      },
      "execution_count": 37,
      "outputs": [
        {
          "output_type": "stream",
          "name": "stdout",
          "text": [
            "[3, 4, 5, 6]\n"
          ]
        }
      ]
    },
    {
      "cell_type": "code",
      "source": [
        "# numeros\n",
        "numeros=[1,2,3,4,5]\n",
        "print(numeros)"
      ],
      "metadata": {
        "colab": {
          "base_uri": "https://localhost:8080/"
        },
        "id": "FwHLgy8o8FsI",
        "outputId": "3fbc62b7-1964-4e24-b5fc-388fe80d7d79"
      },
      "execution_count": 42,
      "outputs": [
        {
          "output_type": "stream",
          "name": "stdout",
          "text": [
            "[1, 2, 3, 4, 5]\n"
          ]
        }
      ]
    },
    {
      "cell_type": "code",
      "source": [
        "# añadir numero 6\n",
        "numeros.append(6)\n",
        "print(6)"
      ],
      "metadata": {
        "colab": {
          "base_uri": "https://localhost:8080/"
        },
        "id": "uaPr2uhr9uAY",
        "outputId": "a53d97fc-a5bd-43bd-9f1b-d163912641a3"
      },
      "execution_count": 44,
      "outputs": [
        {
          "output_type": "stream",
          "name": "stdout",
          "text": [
            "6\n"
          ]
        }
      ]
    },
    {
      "cell_type": "code",
      "source": [
        "# segundo elemento de la lista\n",
        "numeros[1]=10\n",
        "print(1)"
      ],
      "metadata": {
        "colab": {
          "base_uri": "https://localhost:8080/"
        },
        "id": "3WwPNfbR-JEV",
        "outputId": "817390fb-373a-41a3-dc38-0ec184972612"
      },
      "execution_count": 46,
      "outputs": [
        {
          "output_type": "stream",
          "name": "stdout",
          "text": [
            "1\n"
          ]
        }
      ]
    },
    {
      "cell_type": "code",
      "source": [
        "colores=(\"rojo\",\"verde\",\"azul\")\n",
        "print(colores[0])"
      ],
      "metadata": {
        "colab": {
          "base_uri": "https://localhost:8080/"
        },
        "id": "LuJbJv0H-1Ex",
        "outputId": "26f1fe61-a84c-4807-98eb-017dc36a0899"
      },
      "execution_count": 47,
      "outputs": [
        {
          "output_type": "stream",
          "name": "stdout",
          "text": [
            "rojo\n"
          ]
        }
      ]
    },
    {
      "cell_type": "code",
      "source": [
        "#diccionario\n",
        "\"\"\"En Python, los diccionarios son una estructura de datos muy versátil y útil. Son colecciones no ordenadas de pares clave-valor, donde cada clave es única y se asocia a un valor. Aquí te explico los aspectos básicos y algunas características avanzadas\"\"\""
      ],
      "metadata": {
        "colab": {
          "base_uri": "https://localhost:8080/",
          "height": 35
        },
        "id": "dLokv0rP_w61",
        "outputId": "c15c1e8a-7ae0-43b2-c1fd-f69a68347611"
      },
      "execution_count": 48,
      "outputs": [
        {
          "output_type": "execute_result",
          "data": {
            "text/plain": [
              "'En Python, los diccionarios son una estructura de datos muy versátil y útil. Son colecciones no ordenadas de pares clave-valor, donde cada clave es única y se asocia a un valor. Aquí te explico los aspectos básicos y algunas características avanzadas'"
            ],
            "application/vnd.google.colaboratory.intrinsic+json": {
              "type": "string"
            }
          },
          "metadata": {},
          "execution_count": 48
        }
      ]
    },
    {
      "cell_type": "code",
      "source": [
        "mi_diccionario={\n",
        "\"nombre\":\"Ana\",\n",
        "\"edad\":30,\n",
        "\"ciudad\":\"bogota\"\n",
        "}\n"
      ],
      "metadata": {
        "id": "iadZh2pCACGD"
      },
      "execution_count": 49,
      "outputs": []
    },
    {
      "cell_type": "code",
      "source": [
        "#agregar elementos a un diccionario\n",
        "inventario={}\n",
        "inventario[\"manzanas\"]=50\n",
        "inventario[\"naranjas\"]=30\n",
        "print(inventario)"
      ],
      "metadata": {
        "colab": {
          "base_uri": "https://localhost:8080/"
        },
        "id": "hGT7zhpDBnfs",
        "outputId": "fa722c24-9a43-46b0-a732-468cf70dfc24"
      },
      "execution_count": 51,
      "outputs": [
        {
          "output_type": "stream",
          "name": "stdout",
          "text": [
            "{'manzanas': 50, 'naranjas': 30}\n"
          ]
        }
      ]
    },
    {
      "cell_type": "code",
      "source": [
        "#Acceso alos elemtos de un diccionartio se hace a partir del nombre del elemento\n",
        "print(mi_diccionario[\"edad\"])"
      ],
      "metadata": {
        "colab": {
          "base_uri": "https://localhost:8080/"
        },
        "id": "IQdUba5tCKk8",
        "outputId": "e9735c80-ce3b-4874-a056-d9f5e8423268"
      },
      "execution_count": 53,
      "outputs": [
        {
          "output_type": "stream",
          "name": "stdout",
          "text": [
            "30\n"
          ]
        }
      ]
    },
    {
      "cell_type": "code",
      "source": [
        "#modificicar un elemento de un diccionario\n",
        "mi_diccionario[\"edad\"]-21\n",
        "print(mi_diccionario)"
      ],
      "metadata": {
        "colab": {
          "base_uri": "https://localhost:8080/"
        },
        "id": "iEWATvVqCuwv",
        "outputId": "3af987ad-e4b4-418d-ea46-5f775c6ddaa7"
      },
      "execution_count": 54,
      "outputs": [
        {
          "output_type": "stream",
          "name": "stdout",
          "text": [
            "{'nombre': 'Ana', 'edad': 30, 'ciudad': 'bogota'}\n"
          ]
        }
      ]
    },
    {
      "cell_type": "code",
      "source": [
        "#eliminar elemtos de diccionario\n",
        "del mi_diccionario[\"ciudad\"]\n",
        "print(mi_diccionario)"
      ],
      "metadata": {
        "colab": {
          "base_uri": "https://localhost:8080/"
        },
        "id": "GJIpCUqADC1W",
        "outputId": "b8fa73d3-1ce3-465e-a909-ed0c2db3ff9e"
      },
      "execution_count": 55,
      "outputs": [
        {
          "output_type": "stream",
          "name": "stdout",
          "text": [
            "{'nombre': 'Ana', 'edad': 30}\n"
          ]
        }
      ]
    },
    {
      "cell_type": "code",
      "source": [],
      "metadata": {
        "id": "axafE9vQDYY_"
      },
      "execution_count": null,
      "outputs": []
    }
  ]
}